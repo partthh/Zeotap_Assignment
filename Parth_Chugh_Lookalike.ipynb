{
  "nbformat": 4,
  "nbformat_minor": 0,
  "metadata": {
    "colab": {
      "provenance": []
    },
    "kernelspec": {
      "name": "python3",
      "display_name": "Python 3"
    },
    "language_info": {
      "name": "python"
    }
  },
  "cells": [
    {
      "cell_type": "code",
      "execution_count": 1,
      "metadata": {
        "colab": {
          "base_uri": "https://localhost:8080/"
        },
        "id": "l7JhtJVmSsk-",
        "outputId": "f4120384-264f-491a-80bc-a5d714be5939"
      },
      "outputs": [
        {
          "output_type": "stream",
          "name": "stdout",
          "text": [
            "Lookalike customer recommendations generated for the first 20 customers.\n"
          ]
        }
      ],
      "source": [
        "import pandas as pd\n",
        "from sklearn.feature_extraction.text import TfidfVectorizer\n",
        "from sklearn.metrics.pairwise import cosine_similarity\n",
        "\n",
        "def build_lookalike_model(customers_df, transactions_df, target_customer_id):\n",
        "    \"\"\"\n",
        "    Builds a lookalike model for a given customer ID.\n",
        "\n",
        "    Args:\n",
        "        customers_df (pd.DataFrame): DataFrame containing customer information.\n",
        "        transactions_df (pd.DataFrame): DataFrame containing transaction information.\n",
        "        target_customer_id (str): ID of the customer for whom to find lookalikes.\n",
        "\n",
        "    Returns:\n",
        "        pd.DataFrame: DataFrame containing the top 3 lookalike customers with their similarity scores.\n",
        "    \"\"\"\n",
        "\n",
        "    # Merge customer and transaction data\n",
        "    customer_transactions_df = customers_df.merge(transactions_df, on='CustomerID', how='left')\n",
        "\n",
        "    # Filter transactions for the target customer\n",
        "    target_customer_transactions = customer_transactions_df[customer_transactions_df['CustomerID'] == target_customer_id]\n",
        "\n",
        "    # Create customer profiles (consider region and purchase history)\n",
        "    customer_profiles = []\n",
        "    for customer_id in customers_df['CustomerID']:\n",
        "        customer_data = customer_transactions_df[customer_transactions_df['CustomerID'] == customer_id]\n",
        "        customer_profile = f\"{customers_df[customers_df['CustomerID'] == customer_id]['Region'].values[0]} \" \\\n",
        "                          f\"{' '.join(customer_data['ProductName'].fillna('').tolist())} \" \\\n",
        "                          f\"{' '.join(customer_data['Category'].fillna('').tolist())}\"\n",
        "        customer_profiles.append(customer_profile)\n",
        "\n",
        "    # Create TF-IDF vectors for customer profiles\n",
        "    vectorizer = TfidfVectorizer()\n",
        "    customer_profiles_tfidf = vectorizer.fit_transform(customer_profiles)\n",
        "\n",
        "    # Calculate cosine similarity\n",
        "    target_customer_index = customers_df[customers_df['CustomerID'] == target_customer_id].index[0]\n",
        "    similarity_scores = cosine_similarity(customer_profiles_tfidf[target_customer_index], customer_profiles_tfidf)[0]\n",
        "\n",
        "    # Create DataFrame of similar customers\n",
        "    similar_customers = pd.DataFrame({\n",
        "        'CustomerID': customers_df['CustomerID'],\n",
        "        'SimilarityScore': similarity_scores\n",
        "    })\n",
        "\n",
        "    # Sort by similarity score and select top 3\n",
        "    top_lookalikes = similar_customers.sort_values(by='SimilarityScore', ascending=False)[1:4]\n",
        "\n",
        "    return top_lookalikes\n",
        "\n",
        "# Load data\n",
        "customers_df = pd.read_csv(\"Customers.csv\")\n",
        "transactions_df = pd.read_csv(\"Transactions.csv\")\n",
        "products_df = pd.read_csv(\"Products.csv\")\n",
        "\n",
        "# Merge transactions with product information\n",
        "merged_df = transactions_df.merge(products_df, on='ProductID', how='left')\n",
        "\n",
        "# Create lookalike recommendations\n",
        "lookalike_list = []\n",
        "for customer_id in customers_df[\"CustomerID\"].head(20):\n",
        "    top_lookalikes = build_lookalike_model(customers_df, merged_df, customer_id)\n",
        "    for index, row in top_lookalikes.iterrows():\n",
        "        lookalike_list.append([customer_id, row['CustomerID'], row['SimilarityScore']])\n",
        "\n",
        "# Create \"Lookalike.csv\"\n",
        "lookalike_df = pd.DataFrame(lookalike_list, columns=['TargetCustomerID', 'LookalikeCustomerID', 'SimilarityScore'])\n",
        "lookalike_df.to_csv(\"Lookalike.csv\", index=False)\n",
        "\n",
        "print(\"Lookalike customer recommendations generated for the first 20 customers.\")"
      ]
    }
  ]
}